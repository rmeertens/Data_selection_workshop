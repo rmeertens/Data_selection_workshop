{
 "cells": [
  {
   "cell_type": "code",
   "execution_count": null,
   "metadata": {
    "scrolled": true
   },
   "outputs": [],
   "source": [
    "import json, requests\n",
    "from IPython.display import display # import module to print an image\n",
    "import random\n",
    "from PIL import Image\n",
    "from io import BytesIO\n",
    "import os\n",
    "\n",
    "client_id = 'XXXX' # client ID for your mappilary application\n",
    "\n",
    "while True: \n",
    "    try:\n",
    "        ## These are the coordinates for the Munich area. \n",
    "        ## For more fun: set them to your local area!\n",
    "        long = random.uniform(11.32, 11.78)\n",
    "        lat = random.uniform(48.01, 48.26)\n",
    "        coordinates = \"{0:2f},{1:2f}\".format(long, lat)\n",
    "        print(coordinates)\n",
    "\n",
    "        distance = 1500 # the maximum distance in meters that our image should be from the point it looks toward\n",
    "\n",
    "        # API call URL to get a selection of images close to that position\n",
    "        url = ('https://a.mapillary.com/v3/images?client_id={}&per_page=200&lookat={}&closeto={}&radius={}').format(client_id,coordinates,coordinates,distance) \n",
    "\n",
    "        # request a JSON showing the point location and metadata of the images looking at our coordinates\n",
    "        resp = requests.get(url)\n",
    "        data = resp.json()\n",
    "\n",
    "        features = data['features']\n",
    "        print(len(features))\n",
    "        for feature in features: \n",
    "            image_key = feature['properties']['key']\n",
    "\n",
    "            # we will use a template link that shows a JPG from Mapillary, and insert the key\n",
    "            image = 'https://images.mapillary.com/{}/thumb-1024.jpg'.format(image_key)\n",
    "            \n",
    "            # This is where you want to store the image\n",
    "            image_filename = '/Users/rmeertens/datasets/mappilary scraped myself/images/'+image_key+\".jpg\"\n",
    "            if os.path.exists(image_filename):\n",
    "                print('Image already exists')\n",
    "                continue\n",
    "            else:\n",
    "                print('Downloading image', image_filename)\n",
    "\n",
    "            # request the image URL, to get a displayable image\n",
    "            r = requests.get(image,stream=all)\n",
    "            b = BytesIO(r.content)\n",
    "            img = Image.open(b)\n",
    "            img.save(image_filename)\n",
    "\n",
    "            # Also store the JSON, perhaps you might need it for something\n",
    "            with open('/Users/rmeertens/datasets/mappilary scraped myself/jsons/'+image_key+\".json\", 'w') as outfile:\n",
    "                json.dump(feature, outfile)\n",
    "    except Exception as e: \n",
    "        continue"
   ]
  }
 ],
 "metadata": {
  "kernelspec": {
   "display_name": "Python 3",
   "language": "python",
   "name": "python3"
  },
  "language_info": {
   "codemirror_mode": {
    "name": "ipython",
    "version": 3
   },
   "file_extension": ".py",
   "mimetype": "text/x-python",
   "name": "python",
   "nbconvert_exporter": "python",
   "pygments_lexer": "ipython3",
   "version": "3.6.9"
  }
 },
 "nbformat": 4,
 "nbformat_minor": 4
}
